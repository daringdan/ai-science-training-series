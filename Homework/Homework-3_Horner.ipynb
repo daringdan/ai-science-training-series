{
 "cells": [
  {
   "cell_type": "markdown",
   "metadata": {},
   "source": [
    "# Intro to AI-driven Science on Supercomputers\n",
    "## Week 3 Homework\n",
    "\n",
    "#### Dan Horner (danhorner@berkeley.edu)¶\n",
    "---"
   ]
  },
  {
   "cell_type": "markdown",
   "metadata": {},
   "source": [
    "# Improving CIFAR-10 dataset classification with CNNs\n",
    "\n",
    "## CIFAR-10 data set\n",
    "In this homework, we use the CIFAR-10 data set, which contains 32x32 color images from 10 classes: airplane, automobile, bird, cat, deer, dog, frog, horse, ship, truck.\n",
    "\n",
    "The original training image data (x_train_orig) is a 3rd-order tensor of size (50000, 32, 32), i.e. it consists of 50000 images of size 32x32 pixels, while y_train_orig is a 50000-dimensional vector containing the correct classes ('airplane', 'automobile', 'bird', 'cat', 'deer', 'dog', 'frog', 'horse', 'ship', 'truck') for each training sample.\n",
    "\n",
    "Since we are trying to evaluate performance of different models, we will be using a validation data set taken from the original training data set (80% train & 20% validation.)."
   ]
  },
  {
   "cell_type": "markdown",
   "metadata": {},
   "source": [
    "## Set Up and Data Import\n"
   ]
  },
  {
   "cell_type": "code",
   "execution_count": 1,
   "metadata": {},
   "outputs": [],
   "source": [
    "import tensorflow as tf\n",
    "\n",
    "import numpy as np\n",
    "import pandas as pd\n",
    "\n",
    "from sklearn.model_selection import train_test_split\n",
    "np.random.seed(1)\n",
    "\n",
    "# Plotting library\n",
    "import plotnine as p9\n",
    "from plotnine import * \n",
    "p9.options.figure_size = (15, 12)\n",
    "\n",
    "import time\n",
    "\n",
    "from image_dataset_loader import load"
   ]
  },
  {
   "cell_type": "code",
   "execution_count": 2,
   "metadata": {},
   "outputs": [
    {
     "name": "stdout",
     "output_type": "stream",
     "text": [
      "CIFAR-10 data loaded: train: 50000 test: 10000\n",
      "X_train: (40000, 32, 32, 3)\n",
      "y_train: (40000, 1)\n",
      "X_val: (10000, 32, 32, 3)\n",
      "y_val: (10000, 1)\n",
      "X_test: (10000, 32, 32, 3)\n",
      "y_test: (10000, 1)\n"
     ]
    }
   ],
   "source": [
    "# Data import copied from in-class notebook, and adapted for Train/Validation/Test\n",
    "\n",
    "(x_train_orig, y_train_orig), (x_test, y_test) = tf.keras.datasets.cifar10.load_data()\n",
    "#(x_train_orig, y_train_orig), (x_test, y_test) = load('../03_neural_networks_tensorflow/cifar10', ['train', 'test'])\n",
    "\n",
    "\n",
    "x_train_orig = x_train_orig.astype(np.float32)\n",
    "x_test  = x_test.astype(np.float32)\n",
    "\n",
    "# Normalize values [0-1]\n",
    "x_train_orig /= 255.\n",
    "x_test  /= 255.\n",
    "\n",
    "y_train_orig = y_train_orig.astype(np.int32)\n",
    "y_test  = y_test.astype(np.int32)\n",
    "\n",
    "#Train / validation split\n",
    "x_train_i, x_val, y_train_i, y_val = train_test_split(x_train_orig, y_train_orig, test_size=0.2)\n",
    "\n",
    "print('CIFAR-10 data loaded: train:',len(x_train_orig),'test:',len(x_test))\n",
    "print('X_train:', x_train_i.shape)\n",
    "print('y_train:', y_train_i.shape)\n",
    "print('X_val:', x_val.shape)\n",
    "print('y_val:', y_val.shape)\n",
    "print('X_test:', x_test.shape)\n",
    "print('y_test:', y_test.shape)"
   ]
  },
  {
   "cell_type": "markdown",
   "metadata": {},
   "source": [
    "---"
   ]
  },
  {
   "cell_type": "markdown",
   "metadata": {},
   "source": [
    "## Model Training"
   ]
  },
  {
   "cell_type": "markdown",
   "metadata": {},
   "source": [
    "### Function Definitions"
   ]
  },
  {
   "cell_type": "code",
   "execution_count": 3,
   "metadata": {},
   "outputs": [],
   "source": [
    "class CIFAR10Classifier(tf.keras.models.Model):\n",
    "\n",
    "    def __init__(self, activation=tf.nn.relu, dropout=(0.25, 0.50), hl = (32, 64, 128)):\n",
    "        tf.keras.models.Model.__init__(self)\n",
    "\n",
    "        self.conv_1 = tf.keras.layers.Conv2D(hl[0], [3, 3], activation='relu')\n",
    "        self.conv_2 = tf.keras.layers.Conv2D(hl[1], [3, 3], activation='relu')\n",
    "        self.pool_3 = tf.keras.layers.MaxPooling2D(pool_size=(2, 2))\n",
    "        self.drop_4 = tf.keras.layers.Dropout(dropout[0])\n",
    "        self.dense_5 = tf.keras.layers.Dense(hl[2], activation='relu')\n",
    "        self.drop_6 = tf.keras.layers.Dropout(dropout[1])\n",
    "        self.dense_7 = tf.keras.layers.Dense(10, activation='softmax')\n",
    "\n",
    "    def call(self, inputs):\n",
    "        \n",
    "        x = self.conv_1(inputs)\n",
    "        x = self.conv_2(x)\n",
    "        x = self.pool_3(x)\n",
    "        x = self.drop_4(x)\n",
    "        x = tf.keras.layers.Flatten()(x)\n",
    "        x = self.dense_5(x)\n",
    "        x = self.drop_6(x)\n",
    "        x = self.dense_7(x)\n",
    "\n",
    "        return x"
   ]
  },
  {
   "cell_type": "code",
   "execution_count": 4,
   "metadata": {},
   "outputs": [],
   "source": [
    "def train_network_concise(_x_train, _y_train, _batch_size, _n_training_epochs, _lr, _dropout, _hl):\n",
    "    model = CIFAR10Classifier(dropout = _dropout, hl = _hl)\n",
    "    model.compile(loss=\"sparse_categorical_crossentropy\", optimizer=\"adam\", metrics=['accuracy'])    \n",
    "    history = model.fit(_x_train, _y_train, batch_size=_batch_size, epochs=_n_training_epochs, verbose=2)\n",
    "    \n",
    "    return history, model"
   ]
  },
  {
   "cell_type": "markdown",
   "metadata": {},
   "source": [
    "## Results\n",
    "\n",
    "To increase accuracy, I tuned a number of the hyper-parameters by hand, including the model layers themselves. In order to compare models, I varied the dropout and hidden layer dimensions via parameters passed to the model constructor.\n",
    "Unsurprisingly, training for more epochs led to the greatest gain in accuracy. The model layer changes I investigated (adding additional convolutional and pooling layers) didn't seem to make a substantial difference to the accuracy, and accordingly I ended up using original layer sequence, but with different hyper-parameters and dimensions. Additionally, I used accuracy as the training metric.\n",
    "\n",
    "The model with:\n",
    "- batch size: 512\n",
    "- learning rate: 0.10\n",
    "- dropout: 50% before and 50% after the final dense layer\n",
    "- two 2-D convolutional layers filter dimension: 128 and 256\n",
    "- final dense layer dimension: 256 \n",
    "\n",
    "resulted in 92% training accuracy and 73.5% test accuracy after 50 epochs. More hyper-parameter optimization could certainly be done and based on the figures below more training epochs would certainly increase accuracy; however this is the accuracy I was able to acheive for this homework.  \n",
    "\n",
    "\n",
    "*Also note, that I used the validation dataset to compare hyper-parameters (not saved in this notebook.)*\n"
   ]
  },
  {
   "cell_type": "code",
   "execution_count": 6,
   "metadata": {},
   "outputs": [
    {
     "name": "stdout",
     "output_type": "stream",
     "text": [
      "Epoch 1/50\n",
      "79/79 - 359s - loss: 1.7548 - accuracy: 0.3599 - 359s/epoch - 5s/step\n",
      "Epoch 2/50\n",
      "79/79 - 366s - loss: 1.3386 - accuracy: 0.5212 - 366s/epoch - 5s/step\n",
      "Epoch 3/50\n",
      "79/79 - 374s - loss: 1.1772 - accuracy: 0.5852 - 374s/epoch - 5s/step\n",
      "Epoch 4/50\n",
      "79/79 - 377s - loss: 1.0657 - accuracy: 0.6280 - 377s/epoch - 5s/step\n",
      "Epoch 5/50\n",
      "79/79 - 373s - loss: 0.9843 - accuracy: 0.6559 - 373s/epoch - 5s/step\n",
      "Epoch 6/50\n",
      "79/79 - 329s - loss: 0.9181 - accuracy: 0.6802 - 329s/epoch - 4s/step\n",
      "Epoch 7/50\n",
      "79/79 - 327s - loss: 0.8808 - accuracy: 0.6891 - 327s/epoch - 4s/step\n",
      "Epoch 8/50\n",
      "79/79 - 327s - loss: 0.8179 - accuracy: 0.7118 - 327s/epoch - 4s/step\n",
      "Epoch 9/50\n",
      "79/79 - 327s - loss: 0.7758 - accuracy: 0.7271 - 327s/epoch - 4s/step\n",
      "Epoch 10/50\n",
      "79/79 - 360s - loss: 0.7473 - accuracy: 0.7385 - 360s/epoch - 5s/step\n",
      "Epoch 11/50\n",
      "79/79 - 343s - loss: 0.7011 - accuracy: 0.7510 - 343s/epoch - 4s/step\n",
      "Epoch 12/50\n",
      "79/79 - 363s - loss: 0.6629 - accuracy: 0.7646 - 363s/epoch - 5s/step\n",
      "Epoch 13/50\n",
      "79/79 - 363s - loss: 0.6363 - accuracy: 0.7739 - 363s/epoch - 5s/step\n",
      "Epoch 14/50\n",
      "79/79 - 368s - loss: 0.6095 - accuracy: 0.7827 - 368s/epoch - 5s/step\n",
      "Epoch 15/50\n",
      "79/79 - 339s - loss: 0.5739 - accuracy: 0.7949 - 339s/epoch - 4s/step\n",
      "Epoch 16/50\n",
      "79/79 - 325s - loss: 0.5681 - accuracy: 0.7995 - 325s/epoch - 4s/step\n",
      "Epoch 17/50\n",
      "79/79 - 367s - loss: 0.5234 - accuracy: 0.8116 - 367s/epoch - 5s/step\n",
      "Epoch 18/50\n",
      "79/79 - 346s - loss: 0.5019 - accuracy: 0.8200 - 346s/epoch - 4s/step\n",
      "Epoch 19/50\n",
      "79/79 - 365s - loss: 0.4822 - accuracy: 0.8260 - 365s/epoch - 5s/step\n",
      "Epoch 20/50\n",
      "79/79 - 365s - loss: 0.4677 - accuracy: 0.8321 - 365s/epoch - 5s/step\n",
      "Epoch 21/50\n",
      "79/79 - 365s - loss: 0.4411 - accuracy: 0.8407 - 365s/epoch - 5s/step\n",
      "Epoch 22/50\n",
      "79/79 - 335s - loss: 0.4288 - accuracy: 0.8431 - 335s/epoch - 4s/step\n",
      "Epoch 23/50\n",
      "79/79 - 324s - loss: 0.4133 - accuracy: 0.8499 - 324s/epoch - 4s/step\n",
      "Epoch 24/50\n",
      "79/79 - 324s - loss: 0.3995 - accuracy: 0.8559 - 324s/epoch - 4s/step\n",
      "Epoch 25/50\n",
      "79/79 - 324s - loss: 0.3875 - accuracy: 0.8609 - 324s/epoch - 4s/step\n",
      "Epoch 26/50\n",
      "79/79 - 322s - loss: 0.3744 - accuracy: 0.8633 - 322s/epoch - 4s/step\n",
      "Epoch 27/50\n",
      "79/79 - 321s - loss: 0.3636 - accuracy: 0.8687 - 321s/epoch - 4s/step\n",
      "Epoch 28/50\n",
      "79/79 - 321s - loss: 0.3463 - accuracy: 0.8755 - 321s/epoch - 4s/step\n",
      "Epoch 29/50\n",
      "79/79 - 320s - loss: 0.3323 - accuracy: 0.8816 - 320s/epoch - 4s/step\n",
      "Epoch 30/50\n",
      "79/79 - 324s - loss: 0.3315 - accuracy: 0.8824 - 324s/epoch - 4s/step\n",
      "Epoch 31/50\n",
      "79/79 - 322s - loss: 0.3240 - accuracy: 0.8823 - 322s/epoch - 4s/step\n",
      "Epoch 32/50\n",
      "79/79 - 323s - loss: 0.3121 - accuracy: 0.8891 - 323s/epoch - 4s/step\n",
      "Epoch 33/50\n",
      "79/79 - 323s - loss: 0.3034 - accuracy: 0.8914 - 323s/epoch - 4s/step\n",
      "Epoch 34/50\n",
      "79/79 - 322s - loss: 0.3106 - accuracy: 0.8856 - 322s/epoch - 4s/step\n",
      "Epoch 35/50\n",
      "79/79 - 323s - loss: 0.2846 - accuracy: 0.8971 - 323s/epoch - 4s/step\n",
      "Epoch 36/50\n",
      "79/79 - 322s - loss: 0.2830 - accuracy: 0.8971 - 322s/epoch - 4s/step\n",
      "Epoch 37/50\n",
      "79/79 - 322s - loss: 0.2831 - accuracy: 0.8963 - 322s/epoch - 4s/step\n",
      "Epoch 38/50\n",
      "79/79 - 321s - loss: 0.2694 - accuracy: 0.9026 - 321s/epoch - 4s/step\n",
      "Epoch 39/50\n",
      "79/79 - 322s - loss: 0.2603 - accuracy: 0.9042 - 322s/epoch - 4s/step\n",
      "Epoch 40/50\n",
      "79/79 - 321s - loss: 0.2629 - accuracy: 0.9049 - 321s/epoch - 4s/step\n",
      "Epoch 41/50\n",
      "79/79 - 323s - loss: 0.2557 - accuracy: 0.9059 - 323s/epoch - 4s/step\n",
      "Epoch 42/50\n",
      "79/79 - 321s - loss: 0.2549 - accuracy: 0.9084 - 321s/epoch - 4s/step\n",
      "Epoch 43/50\n",
      "79/79 - 322s - loss: 0.2417 - accuracy: 0.9122 - 322s/epoch - 4s/step\n",
      "Epoch 44/50\n",
      "79/79 - 323s - loss: 0.2389 - accuracy: 0.9156 - 323s/epoch - 4s/step\n",
      "Epoch 45/50\n",
      "79/79 - 322s - loss: 0.2546 - accuracy: 0.9078 - 322s/epoch - 4s/step\n",
      "Epoch 46/50\n",
      "79/79 - 323s - loss: 0.2380 - accuracy: 0.9134 - 323s/epoch - 4s/step\n",
      "Epoch 47/50\n",
      "79/79 - 323s - loss: 0.2317 - accuracy: 0.9161 - 323s/epoch - 4s/step\n",
      "Epoch 48/50\n",
      "79/79 - 322s - loss: 0.2217 - accuracy: 0.9201 - 322s/epoch - 4s/step\n",
      "Epoch 49/50\n",
      "79/79 - 322s - loss: 0.2265 - accuracy: 0.9190 - 322s/epoch - 4s/step\n",
      "Epoch 50/50\n",
      "79/79 - 323s - loss: 0.2230 - accuracy: 0.9196 - 323s/epoch - 4s/step\n"
     ]
    }
   ],
   "source": [
    "epochs = 50\n",
    "\n",
    "bs = 512\n",
    "lr = 0.1\n",
    "do = (0.50, 0.50)\n",
    "hl = (128, 256, 256)\n",
    "\n",
    "history_i, model_i = train_network_concise(x_train_i, y_train_i, bs, epochs, lr, do, hl)\n"
   ]
  },
  {
   "cell_type": "code",
   "execution_count": 9,
   "metadata": {},
   "outputs": [
    {
     "name": "stdout",
     "output_type": "stream",
     "text": [
      "Model Scores [loss, accuracy]\n",
      "Validation:\n",
      "[1.0180504322052002, 0.7444000244140625]\n",
      "Test:\n",
      "[1.0288177728652954, 0.7353000044822693]\n"
     ]
    }
   ],
   "source": [
    "scores_val = model_i.evaluate(x_val, y_val, verbose=0)\n",
    "scores_test = model_i.evaluate(x_test, y_test, verbose=0)\n",
    "\n",
    "print('Model Scores [loss, accuracy]')\n",
    "print('Validation:')\n",
    "print(scores_val)\n",
    "print('Test:')\n",
    "print(scores_test)"
   ]
  },
  {
   "cell_type": "markdown",
   "metadata": {},
   "source": [
    "### Training Accuracy & Loss Plots"
   ]
  },
  {
   "cell_type": "code",
   "execution_count": 18,
   "metadata": {},
   "outputs": [
    {
     "data": {
      "image/png": "[encoded data removed]",
      "text/plain": [
       "<Figure size 1500x1200 with 2 Axes>"
      ]
     },
     "metadata": {},
     "output_type": "display_data"
    },
    {
     "name": "stdout",
     "output_type": "stream",
     "text": [
      "\n"
     ]
    }
   ],
   "source": [
    "df = pd.DataFrame({'Loss': history_i.history['loss'], 'Accuracy': history_i.history['accuracy']})\n",
    "df = df.reset_index()\n",
    "df = df.melt(id_vars = ['index'])\n",
    "\n",
    "pl = (ggplot()\n",
    "      + geom_hline(yintercept = 0, colour = 'grey', size = 0.3)\n",
    "      + geom_point(df, aes(x = 'index', y = 'value'))\n",
    "      + geom_line(df, aes(x = 'index', y = 'value'), size = 0.2)\n",
    "      + scale_x_continuous(name = 'training epoch')\n",
    "      + scale_y_continuous(name = '')\n",
    "      + facet_wrap('~variable', scales = 'free_y')\n",
    "      + ggtitle('CIFAR-10 Training Accuracy and Loss')\n",
    "      + theme(\n",
    "          subplots_adjust={'wspace': 0.10},\n",
    "          title = element_text(ha = 'left'),\n",
    "      )\n",
    "     )\n",
    "\n",
    "print(pl)\n",
    "                "
   ]
  },
  {
   "cell_type": "code",
   "execution_count": null,
   "metadata": {},
   "outputs": [],
   "source": []
  }
 ],
 "metadata": {
  "kernelspec": {
   "display_name": "Python 3 (ipykernel)",
   "language": "python",
   "name": "python3"
  },
  "language_info": {
   "codemirror_mode": {
    "name": "ipython",
    "version": 3
   },
   "file_extension": ".py",
   "mimetype": "text/x-python",
   "name": "python",
   "nbconvert_exporter": "python",
   "pygments_lexer": "ipython3",
   "version": "3.9.13"
  }
 },
 "nbformat": 4,
 "nbformat_minor": 4
}

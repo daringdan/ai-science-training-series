{
 "cells": [
  {
   "cell_type": "markdown",
   "metadata": {},
   "source": [
    "# CIFAR-10 dataset classification with CNNs\n",
    "\n",
    "Author: Tanwi Mallick, adapting codes from Bethany Lusch, Prasanna Balprakash, Corey Adams, and Kyle Felker\n",
    "\n",
    "In this notebook, we'll continue the CIFAR-10 problem using the Keras API (as included in the TensorFlow library) and incorporating convolutional layers.\n",
    "\n",
    "First, the needed imports."
   ]
  },
  {
   "cell_type": "code",
   "execution_count": 1,
   "metadata": {},
   "outputs": [],
   "source": [
    "%matplotlib inline\n",
    "\n",
    "import tensorflow as tf\n",
    "\n",
    "import numpy\n",
    "import matplotlib.pyplot as plt\n",
    "import time"
   ]
  },
  {
   "cell_type": "markdown",
   "metadata": {},
   "source": [
    "## CIFAR-10 data set\n",
    "\n",
    "Again we'll load the cifar10 data set. CIFAR-10 dataset contains 32x32 color images from 10 classes: airplane, automobile, bird, cat, deer, dog, frog, horse, ship, truck. If you haven't downloaded it already, it could take a while."
   ]
  },
  {
   "cell_type": "code",
   "execution_count": 2,
   "metadata": {},
   "outputs": [],
   "source": [
    "#(x_train, y_train), (x_test, y_test) = tf.keras.datasets.cifar10.load_data()\n",
    "#x_train = x_train.astype(numpy.float32)\n",
    "#x_test  = x_test.astype(numpy.float32)\n",
    "\n",
    "#x_train /= 255.\n",
    "#x_test  /= 255.\n",
    "\n",
    "#y_train = y_train.astype(numpy.int32)\n",
    "#y_test  = y_test.astype(numpy.int32)"
   ]
  },
  {
   "cell_type": "code",
   "execution_count": 3,
   "metadata": {},
   "outputs": [
    {
     "name": "stdout",
     "output_type": "stream",
     "text": [
      "\n",
      "CIFAR-10 data loaded: train: 50000 test: 10000\n",
      "X_train: (50000, 32, 32, 3)\n",
      "y_train: (50000,)\n"
     ]
    }
   ],
   "source": [
    "from image_dataset_loader import load\n",
    "(x_train, y_train), (x_test, y_test) = load('cifar10', ['train', 'test'])\n",
    "\n",
    "x_train = x_train.astype(numpy.float32)\n",
    "x_test  = x_test.astype(numpy.float32)\n",
    "\n",
    "x_train /= 255.\n",
    "x_test  /= 255.\n",
    "\n",
    "y_train = y_train.astype(numpy.int32)\n",
    "y_test  = y_test.astype(numpy.int32)\n",
    "\n",
    "print()\n",
    "print('CIFAR-10 data loaded: train:',len(x_train),'test:',len(x_test))\n",
    "print('X_train:', x_train.shape)\n",
    "print('y_train:', y_train.shape)"
   ]
  },
  {
   "cell_type": "markdown",
   "metadata": {},
   "source": [
    "This time we won't flatten the images. \n",
    "\n",
    "The training data (`X_train`) is a 3rd-order tensor of size (50000, 32, 32), i.e. it consists of 50000 images of size 32x32 pixels. \n",
    "\n",
    "`y_train` is a 50000-dimensional vector containing the correct classes ('airplane', 'automobile', 'bird', 'cat', 'deer', 'dog', 'frog', 'horse', 'ship', 'truck') for each training sample."
   ]
  },
  {
   "cell_type": "markdown",
   "metadata": {},
   "source": [
    "## Convolutional neural network (CNN)\n",
    "\n",
    "CNN is a type of deep learning model for processing data that has a grid pattern, such as images.\n",
    "\n",
    "Let's use a small model that includes convolutional layers\n",
    "\n",
    "- The Conv2D layers operate on 2D matrices so we input the digit images directly to the model.\n",
    "    - The two Conv2D layers belows learn 32 and 64 filters respectively. \n",
    "    - They are learning filters for 3x3 windows.\n",
    "- The MaxPooling2D layer reduces the spatial dimensions, that is, makes the image smaller.\n",
    "    - It downsamples by taking the maximum value in the window \n",
    "    - The pool size of (2, 2) below means the windows are 2x2. \n",
    "    - Helps in extracting important features and reduce computation\n",
    "- The Flatten layer flattens the 2D matrices into vectors, so we can then switch to Dense layers as in the MLP model.\n",
    "\n",
    "See https://keras.io/layers/convolutional/, https://keras.io/layers/pooling/ for more information."
   ]
  },
  {
   "cell_type": "markdown",
   "metadata": {},
   "source": [
    "![conv layer](images/conv_layer.png)\n",
    "Image credit: [Jason Brownlee](https://machinelearningmastery.com/convolutional-layers-for-deep-learning-neural-networks/)"
   ]
  },
  {
   "cell_type": "markdown",
   "metadata": {},
   "source": [
    "![conv layer](images/conv.png)\n",
    "Image credit: [Anh H. Reynolds](https://anhreynolds.com/blogs/cnn.html)"
   ]
  },
  {
   "cell_type": "markdown",
   "metadata": {},
   "source": [
    "\n",
    "<img src=\"images/MaxpoolSample2.png\" width=\"600\" hight=\"600\" align=\"left\"/>"
   ]
  },
  {
   "cell_type": "code",
   "execution_count": 4,
   "metadata": {},
   "outputs": [],
   "source": [
    "class CIFAR10Classifier(tf.keras.models.Model):\n",
    "\n",
    "    def __init__(self, activation=tf.nn.tanh):\n",
    "        tf.keras.models.Model.__init__(self)\n",
    "\n",
    "        self.conv_1 = tf.keras.layers.Conv2D(32, [3, 3], activation='relu')\n",
    "        self.conv_2 = tf.keras.layers.Conv2D(64, [3, 3], activation='relu')\n",
    "        self.pool_3 = tf.keras.layers.MaxPooling2D(pool_size=(2, 2))\n",
    "        self.drop_4 = tf.keras.layers.Dropout(0.25)\n",
    "        self.dense_5 = tf.keras.layers.Dense(128, activation='relu')\n",
    "        self.drop_6 = tf.keras.layers.Dropout(0.5)\n",
    "        self.dense_7 = tf.keras.layers.Dense(10, activation='softmax')\n",
    "\n",
    "    def call(self, inputs):\n",
    "\n",
    "        x = self.conv_1(inputs)\n",
    "        x = self.conv_2(x)\n",
    "        x = self.pool_3(x)\n",
    "        x = self.drop_4(x)\n",
    "        x = tf.keras.layers.Flatten()(x)\n",
    "        x = self.dense_5(x)\n",
    "        x = self.drop_6(x)\n",
    "        x = self.dense_7(x)\n",
    "\n",
    "        return x"
   ]
  },
  {
   "cell_type": "markdown",
   "metadata": {},
   "source": [
    "### Simple training"
   ]
  },
  {
   "cell_type": "markdown",
   "metadata": {},
   "source": [
    "Here is a concise way to train the network, like we did in the previous notebook. We'll see a more verbose approach below that allows more performance tuning."
   ]
  },
  {
   "cell_type": "code",
   "execution_count": 5,
   "metadata": {},
   "outputs": [],
   "source": [
    "def train_network_concise(_batch_size, _n_training_epochs, _lr):\n",
    "\n",
    "    cnn_model = CIFAR10Classifier()\n",
    "\n",
    "    cnn_model.compile(loss=\"sparse_categorical_crossentropy\", optimizer=\"adam\", metrics=['accuracy'])\n",
    "    \n",
    "    history = cnn_model.fit(x_train, y_train, batch_size=_batch_size, epochs=_n_training_epochs)\n",
    "    return history, cnn_model"
   ]
  },
  {
   "cell_type": "code",
   "execution_count": 23,
   "metadata": {},
   "outputs": [
    {
     "name": "stdout",
     "output_type": "stream",
     "text": [
      "Epoch 1/100\n",
      "98/98 [==============================] - 1s 6ms/step - loss: 1.8646 - accuracy: 0.3177\n",
      "Epoch 2/100\n",
      "98/98 [==============================] - 1s 6ms/step - loss: 1.5041 - accuracy: 0.4594\n",
      "Epoch 3/100\n",
      "98/98 [==============================] - 1s 6ms/step - loss: 1.3701 - accuracy: 0.5118\n",
      "Epoch 4/100\n",
      "98/98 [==============================] - 1s 6ms/step - loss: 1.2787 - accuracy: 0.5495\n",
      "Epoch 5/100\n",
      "98/98 [==============================] - 1s 6ms/step - loss: 1.1992 - accuracy: 0.5761\n",
      "Epoch 6/100\n",
      "98/98 [==============================] - 1s 6ms/step - loss: 1.1557 - accuracy: 0.5906\n",
      "Epoch 7/100\n",
      "98/98 [==============================] - 1s 6ms/step - loss: 1.1198 - accuracy: 0.6051\n",
      "Epoch 8/100\n",
      "98/98 [==============================] - 1s 6ms/step - loss: 1.0820 - accuracy: 0.6216\n",
      "Epoch 9/100\n",
      "98/98 [==============================] - 1s 6ms/step - loss: 1.0540 - accuracy: 0.6262\n",
      "Epoch 10/100\n",
      "98/98 [==============================] - 1s 6ms/step - loss: 1.0237 - accuracy: 0.6376\n",
      "Epoch 11/100\n",
      "98/98 [==============================] - 1s 6ms/step - loss: 0.9946 - accuracy: 0.6489\n",
      "Epoch 12/100\n",
      "98/98 [==============================] - 1s 6ms/step - loss: 0.9686 - accuracy: 0.6602\n",
      "Epoch 13/100\n",
      "98/98 [==============================] - 1s 6ms/step - loss: 0.9498 - accuracy: 0.6638\n",
      "Epoch 14/100\n",
      "98/98 [==============================] - 1s 6ms/step - loss: 0.9294 - accuracy: 0.6706\n",
      "Epoch 15/100\n",
      "98/98 [==============================] - 1s 6ms/step - loss: 0.9099 - accuracy: 0.6777\n",
      "Epoch 16/100\n",
      "98/98 [==============================] - 1s 6ms/step - loss: 0.8829 - accuracy: 0.6861\n",
      "Epoch 17/100\n",
      "98/98 [==============================] - 1s 6ms/step - loss: 0.8727 - accuracy: 0.6878\n",
      "Epoch 18/100\n",
      "98/98 [==============================] - 1s 6ms/step - loss: 0.8592 - accuracy: 0.6951\n",
      "Epoch 19/100\n",
      "98/98 [==============================] - 1s 6ms/step - loss: 0.8383 - accuracy: 0.7011\n",
      "Epoch 20/100\n",
      "98/98 [==============================] - 1s 6ms/step - loss: 0.8283 - accuracy: 0.7009\n",
      "Epoch 21/100\n",
      "98/98 [==============================] - 1s 6ms/step - loss: 0.8104 - accuracy: 0.7107\n",
      "Epoch 22/100\n",
      "98/98 [==============================] - 1s 6ms/step - loss: 0.7934 - accuracy: 0.7177\n",
      "Epoch 23/100\n",
      "98/98 [==============================] - 1s 6ms/step - loss: 0.7861 - accuracy: 0.7158\n",
      "Epoch 24/100\n",
      "98/98 [==============================] - 1s 6ms/step - loss: 0.7675 - accuracy: 0.7239\n",
      "Epoch 25/100\n",
      "98/98 [==============================] - 1s 6ms/step - loss: 0.7566 - accuracy: 0.7259\n",
      "Epoch 26/100\n",
      "98/98 [==============================] - 1s 6ms/step - loss: 0.7477 - accuracy: 0.7289\n",
      "Epoch 27/100\n",
      "98/98 [==============================] - 1s 6ms/step - loss: 0.7286 - accuracy: 0.7353\n",
      "Epoch 28/100\n",
      "98/98 [==============================] - 1s 6ms/step - loss: 0.7254 - accuracy: 0.7357\n",
      "Epoch 29/100\n",
      "98/98 [==============================] - 1s 6ms/step - loss: 0.7123 - accuracy: 0.7408\n",
      "Epoch 30/100\n",
      "98/98 [==============================] - 1s 6ms/step - loss: 0.7042 - accuracy: 0.7449\n",
      "Epoch 31/100\n",
      "98/98 [==============================] - 1s 6ms/step - loss: 0.6924 - accuracy: 0.7484\n",
      "Epoch 32/100\n",
      "98/98 [==============================] - 1s 6ms/step - loss: 0.6755 - accuracy: 0.7498\n",
      "Epoch 33/100\n",
      "98/98 [==============================] - 1s 6ms/step - loss: 0.6680 - accuracy: 0.7548\n",
      "Epoch 34/100\n",
      "98/98 [==============================] - 1s 6ms/step - loss: 0.6585 - accuracy: 0.7569\n",
      "Epoch 35/100\n",
      "98/98 [==============================] - 1s 6ms/step - loss: 0.6483 - accuracy: 0.7604\n",
      "Epoch 36/100\n",
      "98/98 [==============================] - 1s 6ms/step - loss: 0.6418 - accuracy: 0.7630\n",
      "Epoch 37/100\n",
      "98/98 [==============================] - 1s 6ms/step - loss: 0.6393 - accuracy: 0.7632\n",
      "Epoch 38/100\n",
      "98/98 [==============================] - 1s 8ms/step - loss: 0.6214 - accuracy: 0.7704\n",
      "Epoch 39/100\n",
      "98/98 [==============================] - 1s 6ms/step - loss: 0.6226 - accuracy: 0.7688\n",
      "Epoch 40/100\n",
      "98/98 [==============================] - 1s 6ms/step - loss: 0.6127 - accuracy: 0.7725\n",
      "Epoch 41/100\n",
      "98/98 [==============================] - 1s 6ms/step - loss: 0.6038 - accuracy: 0.7763\n",
      "Epoch 42/100\n",
      "98/98 [==============================] - 1s 6ms/step - loss: 0.5893 - accuracy: 0.7796\n",
      "Epoch 43/100\n",
      "98/98 [==============================] - 1s 6ms/step - loss: 0.5888 - accuracy: 0.7821\n",
      "Epoch 44/100\n",
      "98/98 [==============================] - 1s 6ms/step - loss: 0.5816 - accuracy: 0.7815\n",
      "Epoch 45/100\n",
      "98/98 [==============================] - 1s 6ms/step - loss: 0.5778 - accuracy: 0.7838\n",
      "Epoch 46/100\n",
      "98/98 [==============================] - 1s 7ms/step - loss: 0.5658 - accuracy: 0.7889\n",
      "Epoch 47/100\n",
      "98/98 [==============================] - 1s 6ms/step - loss: 0.5612 - accuracy: 0.7898\n",
      "Epoch 48/100\n",
      "98/98 [==============================] - 1s 6ms/step - loss: 0.5564 - accuracy: 0.7901\n",
      "Epoch 49/100\n",
      "98/98 [==============================] - 1s 6ms/step - loss: 0.5476 - accuracy: 0.7959\n",
      "Epoch 50/100\n",
      "98/98 [==============================] - 1s 6ms/step - loss: 0.5364 - accuracy: 0.7983\n",
      "Epoch 51/100\n",
      "98/98 [==============================] - 1s 6ms/step - loss: 0.5290 - accuracy: 0.7993\n",
      "Epoch 52/100\n",
      "98/98 [==============================] - 1s 6ms/step - loss: 0.5263 - accuracy: 0.8036\n",
      "Epoch 53/100\n",
      "98/98 [==============================] - 1s 6ms/step - loss: 0.5240 - accuracy: 0.8022\n",
      "Epoch 54/100\n",
      "98/98 [==============================] - 1s 6ms/step - loss: 0.5081 - accuracy: 0.8104\n",
      "Epoch 55/100\n",
      "98/98 [==============================] - 1s 6ms/step - loss: 0.5071 - accuracy: 0.8090\n",
      "Epoch 56/100\n",
      "98/98 [==============================] - 1s 6ms/step - loss: 0.5013 - accuracy: 0.8095\n",
      "Epoch 57/100\n",
      "98/98 [==============================] - 1s 6ms/step - loss: 0.4978 - accuracy: 0.8133\n",
      "Epoch 58/100\n",
      "98/98 [==============================] - 1s 6ms/step - loss: 0.4937 - accuracy: 0.8132\n",
      "Epoch 59/100\n",
      "98/98 [==============================] - 1s 6ms/step - loss: 0.4938 - accuracy: 0.8136\n",
      "Epoch 60/100\n",
      "98/98 [==============================] - 1s 15ms/step - loss: 0.4877 - accuracy: 0.8162\n",
      "Epoch 61/100\n",
      "98/98 [==============================] - 1s 6ms/step - loss: 0.4872 - accuracy: 0.8168\n",
      "Epoch 62/100\n",
      "98/98 [==============================] - 1s 6ms/step - loss: 0.4790 - accuracy: 0.8172\n",
      "Epoch 63/100\n",
      "98/98 [==============================] - 1s 6ms/step - loss: 0.4730 - accuracy: 0.8215\n",
      "Epoch 64/100\n",
      "98/98 [==============================] - 1s 6ms/step - loss: 0.4654 - accuracy: 0.8262\n",
      "Epoch 65/100\n",
      "98/98 [==============================] - 1s 6ms/step - loss: 0.4638 - accuracy: 0.8260\n",
      "Epoch 66/100\n",
      "98/98 [==============================] - 1s 6ms/step - loss: 0.4588 - accuracy: 0.8254\n",
      "Epoch 67/100\n",
      "98/98 [==============================] - 1s 6ms/step - loss: 0.4570 - accuracy: 0.8263\n",
      "Epoch 68/100\n",
      "98/98 [==============================] - 1s 6ms/step - loss: 0.4459 - accuracy: 0.8301\n",
      "Epoch 69/100\n",
      "98/98 [==============================] - 1s 6ms/step - loss: 0.4461 - accuracy: 0.8327\n",
      "Epoch 70/100\n",
      "98/98 [==============================] - 1s 6ms/step - loss: 0.4388 - accuracy: 0.8323\n",
      "Epoch 71/100\n",
      "98/98 [==============================] - 1s 6ms/step - loss: 0.4331 - accuracy: 0.8335\n",
      "Epoch 72/100\n",
      "98/98 [==============================] - 1s 6ms/step - loss: 0.4318 - accuracy: 0.8363\n",
      "Epoch 73/100\n",
      "98/98 [==============================] - 1s 6ms/step - loss: 0.4302 - accuracy: 0.8367\n",
      "Epoch 74/100\n",
      "98/98 [==============================] - 1s 6ms/step - loss: 0.4276 - accuracy: 0.8369\n",
      "Epoch 75/100\n",
      "98/98 [==============================] - 1s 6ms/step - loss: 0.4290 - accuracy: 0.8373\n",
      "Epoch 76/100\n",
      "98/98 [==============================] - 1s 6ms/step - loss: 0.4285 - accuracy: 0.8383\n",
      "Epoch 77/100\n",
      "98/98 [==============================] - 1s 6ms/step - loss: 0.4175 - accuracy: 0.8404\n",
      "Epoch 78/100\n",
      "98/98 [==============================] - 1s 6ms/step - loss: 0.4165 - accuracy: 0.8392\n",
      "Epoch 79/100\n",
      "98/98 [==============================] - 1s 6ms/step - loss: 0.4154 - accuracy: 0.8422\n",
      "Epoch 80/100\n",
      "98/98 [==============================] - 1s 6ms/step - loss: 0.4191 - accuracy: 0.8411\n",
      "Epoch 81/100\n",
      "98/98 [==============================] - 1s 12ms/step - loss: 0.4075 - accuracy: 0.8457\n",
      "Epoch 82/100\n",
      "98/98 [==============================] - 1s 8ms/step - loss: 0.4071 - accuracy: 0.8473\n"
     ]
    },
    {
     "name": "stdout",
     "output_type": "stream",
     "text": [
      "Epoch 83/100\n",
      "98/98 [==============================] - 1s 6ms/step - loss: 0.4080 - accuracy: 0.8454\n",
      "Epoch 84/100\n",
      "98/98 [==============================] - 1s 6ms/step - loss: 0.4032 - accuracy: 0.8474\n",
      "Epoch 85/100\n",
      "98/98 [==============================] - 1s 6ms/step - loss: 0.3986 - accuracy: 0.8471\n",
      "Epoch 86/100\n",
      "98/98 [==============================] - 1s 6ms/step - loss: 0.3960 - accuracy: 0.8477\n",
      "Epoch 87/100\n",
      "98/98 [==============================] - 1s 6ms/step - loss: 0.3959 - accuracy: 0.8505\n",
      "Epoch 88/100\n",
      "98/98 [==============================] - 1s 6ms/step - loss: 0.3981 - accuracy: 0.8476\n",
      "Epoch 89/100\n",
      "98/98 [==============================] - 1s 6ms/step - loss: 0.3935 - accuracy: 0.8504\n",
      "Epoch 90/100\n",
      "98/98 [==============================] - 1s 6ms/step - loss: 0.3876 - accuracy: 0.8528\n",
      "Epoch 91/100\n",
      "98/98 [==============================] - 1s 6ms/step - loss: 0.3822 - accuracy: 0.8549\n",
      "Epoch 92/100\n",
      "98/98 [==============================] - 1s 6ms/step - loss: 0.3867 - accuracy: 0.8514\n",
      "Epoch 93/100\n",
      "98/98 [==============================] - 1s 6ms/step - loss: 0.3770 - accuracy: 0.8567\n",
      "Epoch 94/100\n",
      "98/98 [==============================] - 1s 6ms/step - loss: 0.3833 - accuracy: 0.8532\n",
      "Epoch 95/100\n",
      "98/98 [==============================] - 1s 6ms/step - loss: 0.3783 - accuracy: 0.8553\n",
      "Epoch 96/100\n",
      "98/98 [==============================] - 1s 14ms/step - loss: 0.3805 - accuracy: 0.8569\n",
      "Epoch 97/100\n",
      "98/98 [==============================] - 1s 7ms/step - loss: 0.3712 - accuracy: 0.8568\n",
      "Epoch 98/100\n",
      "98/98 [==============================] - 1s 7ms/step - loss: 0.3717 - accuracy: 0.8586\n",
      "Epoch 99/100\n",
      "98/98 [==============================] - 1s 6ms/step - loss: 0.3679 - accuracy: 0.8616\n",
      "Epoch 100/100\n",
      "98/98 [==============================] - 1s 6ms/step - loss: 0.3703 - accuracy: 0.8593\n"
     ]
    }
   ],
   "source": [
    "# This took 55 seconds per epoch on my laptop\n",
    "batch_size = 512\n",
    "epochs = 100\n",
    "lr = .01\n",
    "history, cnn_model = train_network_concise(batch_size, epochs, lr)"
   ]
  },
  {
   "cell_type": "markdown",
   "metadata": {},
   "source": [
    "Accuracy for test data.  The model should be better than the non-convolutional model even if you're only patient enough for three epochs. "
   ]
  },
  {
   "cell_type": "code",
   "execution_count": 24,
   "metadata": {},
   "outputs": [
    {
     "data": {
      "image/png": "[encoded data removed]",
      "text/plain": [
       "<Figure size 360x216 with 1 Axes>"
      ]
     },
     "metadata": {
      "needs_background": "light"
     },
     "output_type": "display_data"
    },
    {
     "data": {
      "image/png": "[encoded data removed]",
      "text/plain": [
       "<Figure size 360x216 with 1 Axes>"
      ]
     },
     "metadata": {
      "needs_background": "light"
     },
     "output_type": "display_data"
    }
   ],
   "source": [
    "plt.figure(figsize=(5,3))\n",
    "plt.plot(history.epoch,history.history['loss'])\n",
    "plt.title('loss')\n",
    "\n",
    "plt.figure(figsize=(5,3))\n",
    "plt.plot(history.epoch,history.history['accuracy'])\n",
    "plt.title('accuracy');"
   ]
  },
  {
   "cell_type": "markdown",
   "metadata": {},
   "source": [
    "### Inference"
   ]
  },
  {
   "cell_type": "markdown",
   "metadata": {},
   "source": [
    "With enough training epochs, the test accuracy should exceed 99%.\n",
    "\n",
    "You can compare your result with the state-of-the art [here](http://rodrigob.github.io/are_we_there_yet/build/classification_datasets_results.html). Even more results can be found [here](http://yann.lecun.com/exdb/mnist/)."
   ]
  },
  {
   "cell_type": "code",
   "execution_count": 25,
   "metadata": {},
   "outputs": [
    {
     "name": "stdout",
     "output_type": "stream",
     "text": [
      "313/313 - 1s - loss: 1.0694 - accuracy: 0.7098 - 502ms/epoch - 2ms/step\n",
      "accuracy: 70.98%\n",
      "CPU times: user 674 ms, sys: 107 ms, total: 781 ms\n",
      "Wall time: 618 ms\n"
     ]
    }
   ],
   "source": [
    "%%time\n",
    "x_test_reshaped = numpy.expand_dims(x_test, -1)\n",
    "scores = cnn_model.evaluate(x_test, y_test, verbose=2)\n",
    "print(\"%s: %.2f%%\" % (cnn_model.metrics_names[1], scores[1]*100))"
   ]
  },
  {
   "cell_type": "markdown",
   "metadata": {},
   "source": [
    "We can also again check the confusion matrix"
   ]
  },
  {
   "cell_type": "code",
   "execution_count": 26,
   "metadata": {},
   "outputs": [
    {
     "name": "stdout",
     "output_type": "stream",
     "text": [
      "Confusion matrix (rows: true classes; columns: predicted classes):\n",
      "\n",
      "313/313 [==============================] - 1s 895us/step\n",
      "[[779  18  46  18  14   6  13   7  64  35]\n",
      " [ 26 827   8   6   1   5   6   1  24  96]\n",
      " [ 60   4 614  60  98  58  48  32  10  16]\n",
      " [ 22  15  84 527  67 148  65  35  17  20]\n",
      " [ 31   2  96  65 644  20  47  75  18   2]\n",
      " [ 14   6  63 189  52 577  21  64   9   5]\n",
      " [  8   3  61  83  43  19 757  10   8   8]\n",
      " [ 19   2  54  37  56  56   4 756   1  15]\n",
      " [ 73  38  12   6   3   7   4   4 828  25]\n",
      " [ 30  95  12  11   5   4   6  18  30 789]]\n",
      "\n",
      "Classification accuracy for each class:\n",
      "\n",
      "0: 0.7790\n",
      "1: 0.8270\n",
      "2: 0.6140\n",
      "3: 0.5270\n",
      "4: 0.6440\n",
      "5: 0.5770\n",
      "6: 0.7570\n",
      "7: 0.7560\n",
      "8: 0.8280\n",
      "9: 0.7890\n"
     ]
    }
   ],
   "source": [
    "from sklearn.metrics import confusion_matrix\n",
    "\n",
    "print('Confusion matrix (rows: true classes; columns: predicted classes):'); print()\n",
    "predictions = cnn_model.predict(x_test)\n",
    "cm=confusion_matrix(y_test, numpy.argmax(predictions, axis=1), labels=list(range(10)))\n",
    "print(cm); print()\n",
    "\n",
    "print('Classification accuracy for each class:'); print()\n",
    "for i,j in enumerate(cm.diagonal()/cm.sum(axis=1)): print(\"%d: %.4f\" % (i,j))"
   ]
  },
  {
   "cell_type": "markdown",
   "metadata": {},
   "source": [
    "### More verbose training"
   ]
  },
  {
   "cell_type": "markdown",
   "metadata": {},
   "source": [
    "This approach explicitly handles the looping over data. It will be helpful this afternoon for diving in and optimizing"
   ]
  },
  {
   "cell_type": "code",
   "execution_count": 27,
   "metadata": {},
   "outputs": [],
   "source": [
    "def compute_loss(y_true, y_pred):\n",
    "    # if labels are integers, use sparse categorical crossentropy\n",
    "    # network's final layer is softmax, so from_logtis=False\n",
    "    scce = tf.keras.losses.SparseCategoricalCrossentropy(from_logits=False)\n",
    "    # if labels are one-hot encoded, use standard crossentropy\n",
    "\n",
    "    return scce(y_true, y_pred)  "
   ]
  },
  {
   "cell_type": "code",
   "execution_count": 28,
   "metadata": {},
   "outputs": [],
   "source": [
    "def forward_pass(model, batch_data, y_true):\n",
    "    y_pred = model(batch_data)\n",
    "    loss = compute_loss(y_true, y_pred)\n",
    "    return loss"
   ]
  },
  {
   "cell_type": "code",
   "execution_count": 29,
   "metadata": {},
   "outputs": [],
   "source": [
    "# Here is a function that will manage the training loop for us:\n",
    "\n",
    "def train_loop(batch_size, n_training_epochs, model, opt):\n",
    "    \n",
    "    @tf.function()\n",
    "    def train_iteration(data, y_true, model, opt):\n",
    "        with tf.GradientTape() as tape:\n",
    "            loss = forward_pass(model, data, y_true)\n",
    "\n",
    "        trainable_vars = model.trainable_variables\n",
    "\n",
    "        # Apply the update to the network (one at a time):\n",
    "        grads = tape.gradient(loss, trainable_vars)\n",
    "\n",
    "        opt.apply_gradients(zip(grads, trainable_vars))\n",
    "        return loss\n",
    "\n",
    "    for i_epoch in range(n_training_epochs):\n",
    "        print(\"beginning epoch %d\" % i_epoch)\n",
    "        start = time.time()\n",
    "\n",
    "        epoch_steps = int(50000/batch_size)\n",
    "        dataset.shuffle(50000) # Shuffle the whole dataset in memory\n",
    "        batches = dataset.batch(batch_size=batch_size, drop_remainder=True)\n",
    "        \n",
    "        for i_batch, (batch_data, y_true) in enumerate(batches):\n",
    "            batch_data = tf.reshape(batch_data, [-1, 32, 32, 3])\n",
    "            loss = train_iteration(batch_data, y_true, model, opt)\n",
    "            \n",
    "        end = time.time()\n",
    "        print(\"took %1.1f seconds for epoch #%d\" % (end-start, i_epoch))"
   ]
  },
  {
   "cell_type": "code",
   "execution_count": 30,
   "metadata": {},
   "outputs": [],
   "source": [
    "def train_network(_batch_size, _n_training_epochs, _lr):\n",
    "\n",
    "    mnist_model = CIFAR10Classifier()\n",
    "\n",
    "    opt = tf.keras.optimizers.Adam(_lr)\n",
    "\n",
    "    train_loop(_batch_size, _n_training_epochs, mnist_model, opt)"
   ]
  },
  {
   "cell_type": "code",
   "execution_count": 33,
   "metadata": {},
   "outputs": [
    {
     "name": "stdout",
     "output_type": "stream",
     "text": [
      "beginning epoch 0\n",
      "took 1.1 seconds for epoch #0\n",
      "beginning epoch 1\n",
      "took 0.8 seconds for epoch #1\n",
      "beginning epoch 2\n",
      "took 0.8 seconds for epoch #2\n"
     ]
    }
   ],
   "source": [
    "dataset = tf.data.Dataset.from_tensor_slices((x_train, y_train))\n",
    "dataset.shuffle(50000)\n",
    "\n",
    "batch_size = 512\n",
    "epochs = 3\n",
    "lr = .01\n",
    "train_network(batch_size, epochs, lr)"
   ]
  },
  {
   "cell_type": "code",
   "execution_count": 32,
   "metadata": {},
   "outputs": [
    {
     "ename": "NameError",
     "evalue": "name 'loss' is not defined",
     "output_type": "error",
     "traceback": [
      "\u001b[0;31m---------------------------------------------------------------------------\u001b[0m",
      "\u001b[0;31mNameError\u001b[0m                                 Traceback (most recent call last)",
      "Input \u001b[0;32mIn [32]\u001b[0m, in \u001b[0;36m<cell line: 1>\u001b[0;34m()\u001b[0m\n\u001b[0;32m----> 1\u001b[0m \u001b[43mloss\u001b[49m\n",
      "\u001b[0;31mNameError\u001b[0m: name 'loss' is not defined"
     ]
    }
   ],
   "source": []
  },
  {
   "cell_type": "markdown",
   "metadata": {},
   "source": [
    "# Homework: improve the accuracy of this model"
   ]
  },
  {
   "cell_type": "markdown",
   "metadata": {},
   "source": [
    "Update this notebook to ensure more accuracy. How high can it be raised? Changes like increasing the number of epochs, altering the learning weight, altering the number of neurons the hidden layer, chnaging the optimizer, etc. could be made directly in the notebook. You can also change the model specification by expanding the network's layer. The current notebook's training accuracy is roughly 58.69%, although it varies randomly."
   ]
  },
  {
   "cell_type": "code",
   "execution_count": null,
   "metadata": {},
   "outputs": [],
   "source": []
  }
 ],
 "metadata": {
  "kernelspec": {
   "display_name": "conda/2022-07-01",
   "language": "python",
   "name": "conda-2022-07-01"
  },
  "language_info": {
   "codemirror_mode": {
    "name": "ipython",
    "version": 3
   },
   "file_extension": ".py",
   "mimetype": "text/x-python",
   "name": "python",
   "nbconvert_exporter": "python",
   "pygments_lexer": "ipython3",
   "version": "3.8.13"
  }
 },
 "nbformat": 4,
 "nbformat_minor": 4
}
